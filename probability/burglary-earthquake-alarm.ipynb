{
 "cells": [
  {
   "cell_type": "code",
   "execution_count": 5,
   "metadata": {
    "collapsed": true
   },
   "outputs": [],
   "source": [
    "import numpy as np\n",
    "import numpy.random as npr"
   ]
  },
  {
   "cell_type": "code",
   "execution_count": 8,
   "metadata": {
    "collapsed": true
   },
   "outputs": [],
   "source": [
    "earthquake_p = 2 / 365  # on a per day basis\n",
    "burglary_p = 0.2 / 365  # on a per day basis\n",
    "\n",
    "prob_alarm_given_earthquake = 0.2\n",
    "prob_alarm_given_burglary = 0.999"
   ]
  },
  {
   "cell_type": "code",
   "execution_count": 29,
   "metadata": {
    "collapsed": true
   },
   "outputs": [],
   "source": [
    "n_timesteps = 365 * 5000   # run simulation by 100000 years "
   ]
  },
  {
   "cell_type": "code",
   "execution_count": 30,
   "metadata": {
    "collapsed": false
   },
   "outputs": [],
   "source": [
    "earthquakes = []\n",
    "burglaries = []\n",
    "alarms = []\n",
    "\n",
    "for t in range(n_timesteps):\n",
    "    earthquake = npr.binomial(1, earthquake_p)\n",
    "    burglary = npr.binomial(1, burglary_p)\n",
    "    \n",
    "    if earthquake:\n",
    "        alarm_earthquake = npr.binomial(1, prob_alarm_given_earthquake)\n",
    "        earthquakes.append(1)\n",
    "    else:\n",
    "        alarm_earthquake = 0\n",
    "        earthquakes.append(0)\n",
    "    if burglary:\n",
    "        alarm_burglary = npr.binomial(1, prob_alarm_given_burglary)\n",
    "        burglaries.append(1)\n",
    "    else:\n",
    "        alarm_burglary = 0\n",
    "        burglaries.append(0)\n",
    "    if alarm_earthquake or alarm_burglary:\n",
    "        alarms.append(1)\n",
    "    else:\n",
    "        alarms.append(0)\n"
   ]
  },
  {
   "cell_type": "code",
   "execution_count": 31,
   "metadata": {
    "collapsed": false
   },
   "outputs": [
    {
     "data": {
      "text/plain": [
       "Counter({0: 1822055, 1: 2945})"
      ]
     },
     "execution_count": 31,
     "metadata": {},
     "output_type": "execute_result"
    }
   ],
   "source": [
    "from collections import Counter\n",
    "Counter(alarms)"
   ]
  },
  {
   "cell_type": "code",
   "execution_count": 32,
   "metadata": {
    "collapsed": false
   },
   "outputs": [
    {
     "data": {
      "text/plain": [
       "earthquakes    1944\n",
       "burglaries     1004\n",
       "alarms         2945\n",
       "dtype: int64"
      ]
     },
     "execution_count": 32,
     "metadata": {},
     "output_type": "execute_result"
    }
   ],
   "source": [
    "import pandas as pd\n",
    "\n",
    "df = pd.DataFrame()\n",
    "df['earthquakes'] = earthquakes\n",
    "df['burglaries'] = burglaries\n",
    "df['alarms'] = alarms\n",
    "\n",
    "cond = (df['alarms'] == 1)\n",
    "\n",
    "df[cond].sum()"
   ]
  },
  {
   "cell_type": "code",
   "execution_count": 33,
   "metadata": {
    "collapsed": false
   },
   "outputs": [
    {
     "data": {
      "text/html": [
       "<div>\n",
       "<style>\n",
       "    .dataframe thead tr:only-child th {\n",
       "        text-align: right;\n",
       "    }\n",
       "\n",
       "    .dataframe thead th {\n",
       "        text-align: left;\n",
       "    }\n",
       "\n",
       "    .dataframe tbody tr th {\n",
       "        vertical-align: top;\n",
       "    }\n",
       "</style>\n",
       "<table border=\"1\" class=\"dataframe\">\n",
       "  <thead>\n",
       "    <tr style=\"text-align: right;\">\n",
       "      <th></th>\n",
       "      <th>earthquakes</th>\n",
       "      <th>burglaries</th>\n",
       "      <th>alarms</th>\n",
       "    </tr>\n",
       "  </thead>\n",
       "  <tbody>\n",
       "    <tr>\n",
       "      <th>78045</th>\n",
       "      <td>1</td>\n",
       "      <td>1</td>\n",
       "      <td>1</td>\n",
       "    </tr>\n",
       "    <tr>\n",
       "      <th>1460307</th>\n",
       "      <td>1</td>\n",
       "      <td>1</td>\n",
       "      <td>1</td>\n",
       "    </tr>\n",
       "    <tr>\n",
       "      <th>1661571</th>\n",
       "      <td>1</td>\n",
       "      <td>1</td>\n",
       "      <td>1</td>\n",
       "    </tr>\n",
       "  </tbody>\n",
       "</table>\n",
       "</div>"
      ],
      "text/plain": [
       "         earthquakes  burglaries  alarms\n",
       "78045              1           1       1\n",
       "1460307            1           1       1\n",
       "1661571            1           1       1"
      ]
     },
     "execution_count": 33,
     "metadata": {},
     "output_type": "execute_result"
    }
   ],
   "source": [
    "cond = (df['burglaries'] == 1) & (df['earthquakes'] == 1)\n",
    "df[cond]"
   ]
  },
  {
   "cell_type": "code",
   "execution_count": 37,
   "metadata": {
    "collapsed": false
   },
   "outputs": [
    {
     "data": {
      "text/plain": [
       "(2945, 3)"
      ]
     },
     "execution_count": 37,
     "metadata": {},
     "output_type": "execute_result"
    }
   ],
   "source": [
    "cond = (df['alarms'] == 1)\n",
    "df[cond].shape"
   ]
  }
 ],
 "metadata": {
  "kernelspec": {
   "display_name": "Environment (conda_bayesian)",
   "language": "python",
   "name": "conda_bayesian"
  },
  "language_info": {
   "codemirror_mode": {
    "name": "ipython",
    "version": 3
   },
   "file_extension": ".py",
   "mimetype": "text/x-python",
   "name": "python",
   "nbconvert_exporter": "python",
   "pygments_lexer": "ipython3",
   "version": "3.6.1"
  }
 },
 "nbformat": 4,
 "nbformat_minor": 2
}
